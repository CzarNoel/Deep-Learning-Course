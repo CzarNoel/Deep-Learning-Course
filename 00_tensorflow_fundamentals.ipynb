{
  "nbformat": 4,
  "nbformat_minor": 5,
  "metadata": {
    "kernelspec": {
      "display_name": "Python 3",
      "language": "python",
      "name": "python3"
    },
    "language_info": {
      "codemirror_mode": {
        "name": "ipython",
        "version": 3
      },
      "file_extension": ".py",
      "mimetype": "text/x-python",
      "name": "python",
      "nbconvert_exporter": "python",
      "pygments_lexer": "ipython3",
      "version": "3.8.5"
    },
    "colab": {
      "name": "00 tensorflow fundamentals.ipynb",
      "provenance": [],
      "collapsed_sections": [
        "oWqBg4WFmFpE",
        "7i0IMQx8mFpW",
        "rW27HduUmFpZ",
        "U4z4heuemFpb",
        "5p_gHAW1mFpd",
        "NuuHDwkfmFpf",
        "HBccDNLlmFpj",
        "JpfaAlpumFpj",
        "tdRiP4BlmFpm",
        "1IG393U2mFpq"
      ]
    }
  },
  "cells": [
    {
      "cell_type": "markdown",
      "metadata": {
        "id": "mMdHgDh7mFo9"
      },
      "source": [
        "# Tensor fundamentals with Tensorflow\n",
        "\n",
        "More specifically, we're going to cover:\n",
        "* Introduction to tensors\n",
        "* Geeting information from tensors \n",
        "* Manipulating tensors\n",
        "* Tensors & NumPy\n",
        "* Using @tf.function (a way to spped up your regular Python functions)\n",
        "* Using GPUs with Tensorflow (or TPUs)\n",
        "* Exercises to try for yourself"
      ],
      "id": "mMdHgDh7mFo9"
    },
    {
      "cell_type": "markdown",
      "metadata": {
        "id": "oWqBg4WFmFpE"
      },
      "source": [
        "### Introduction to Tensors "
      ],
      "id": "oWqBg4WFmFpE"
    },
    {
      "cell_type": "code",
      "metadata": {
        "colab": {
          "base_uri": "https://localhost:8080/"
        },
        "id": "lrYCkTk9mFpF",
        "outputId": "5e35df69-a50d-40af-ab58-7597f360e676"
      },
      "source": [
        "# Import Tensorflow\n",
        "import tensorflow as tf\n",
        "print(tf.__version__)"
      ],
      "id": "lrYCkTk9mFpF",
      "execution_count": 38,
      "outputs": [
        {
          "output_type": "stream",
          "text": [
            "2.4.1\n"
          ],
          "name": "stdout"
        }
      ]
    },
    {
      "cell_type": "code",
      "metadata": {
        "colab": {
          "base_uri": "https://localhost:8080/"
        },
        "id": "q16g3M8fmFpI",
        "outputId": "574f61b6-dedb-49a0-efd8-d6ada82e3fac"
      },
      "source": [
        "# Creating tensors with tf.constant()\n",
        "scalar = tf.constant(7)\n",
        "scalar"
      ],
      "id": "q16g3M8fmFpI",
      "execution_count": 39,
      "outputs": [
        {
          "output_type": "execute_result",
          "data": {
            "text/plain": [
              "<tf.Tensor: shape=(), dtype=int32, numpy=7>"
            ]
          },
          "metadata": {
            "tags": []
          },
          "execution_count": 39
        }
      ]
    },
    {
      "cell_type": "code",
      "metadata": {
        "colab": {
          "base_uri": "https://localhost:8080/"
        },
        "id": "qkrCdowOmFpJ",
        "outputId": "5c8535d4-7ffa-4633-ee3d-b17542dce9cb"
      },
      "source": [
        "# Check number of dimensions of a tensor (ndim stands for number of dimensions)\n",
        "scalar.ndim"
      ],
      "id": "qkrCdowOmFpJ",
      "execution_count": 40,
      "outputs": [
        {
          "output_type": "execute_result",
          "data": {
            "text/plain": [
              "0"
            ]
          },
          "metadata": {
            "tags": []
          },
          "execution_count": 40
        }
      ]
    },
    {
      "cell_type": "code",
      "metadata": {
        "colab": {
          "base_uri": "https://localhost:8080/"
        },
        "id": "jBU86qtxmFpL",
        "outputId": "5be1e3e9-6089-4cc0-e46f-096cd46df14f"
      },
      "source": [
        "# Create a vector \n",
        "vector = tf.constant([10, 10])\n",
        "vector"
      ],
      "id": "jBU86qtxmFpL",
      "execution_count": 41,
      "outputs": [
        {
          "output_type": "execute_result",
          "data": {
            "text/plain": [
              "<tf.Tensor: shape=(2,), dtype=int32, numpy=array([10, 10], dtype=int32)>"
            ]
          },
          "metadata": {
            "tags": []
          },
          "execution_count": 41
        }
      ]
    },
    {
      "cell_type": "code",
      "metadata": {
        "colab": {
          "base_uri": "https://localhost:8080/"
        },
        "id": "loRp0O9AmFpM",
        "outputId": "8807499a-80d1-4c31-b35e-e935d6b50486"
      },
      "source": [
        "# Check dimension of our vector \n",
        "vector.ndim"
      ],
      "id": "loRp0O9AmFpM",
      "execution_count": 42,
      "outputs": [
        {
          "output_type": "execute_result",
          "data": {
            "text/plain": [
              "1"
            ]
          },
          "metadata": {
            "tags": []
          },
          "execution_count": 42
        }
      ]
    },
    {
      "cell_type": "code",
      "metadata": {
        "colab": {
          "base_uri": "https://localhost:8080/"
        },
        "id": "eI42kYzLmFpN",
        "outputId": "93068854-8067-48e9-a98b-9acee3a7127f"
      },
      "source": [
        "# Create a matrix (has more than 1 dimension)\n",
        "matrix = tf.constant ([[10, 7],\n",
        "                       [7, 10]])\n",
        "matrix"
      ],
      "id": "eI42kYzLmFpN",
      "execution_count": 43,
      "outputs": [
        {
          "output_type": "execute_result",
          "data": {
            "text/plain": [
              "<tf.Tensor: shape=(2, 2), dtype=int32, numpy=\n",
              "array([[10,  7],\n",
              "       [ 7, 10]], dtype=int32)>"
            ]
          },
          "metadata": {
            "tags": []
          },
          "execution_count": 43
        }
      ]
    },
    {
      "cell_type": "code",
      "metadata": {
        "colab": {
          "base_uri": "https://localhost:8080/"
        },
        "id": "gVrKsgWpmFpO",
        "outputId": "a9640974-a13e-49d5-befa-d4a8b322d958"
      },
      "source": [
        "matrix.ndim"
      ],
      "id": "gVrKsgWpmFpO",
      "execution_count": 44,
      "outputs": [
        {
          "output_type": "execute_result",
          "data": {
            "text/plain": [
              "2"
            ]
          },
          "metadata": {
            "tags": []
          },
          "execution_count": 44
        }
      ]
    },
    {
      "cell_type": "code",
      "metadata": {
        "colab": {
          "base_uri": "https://localhost:8080/"
        },
        "id": "zWFb0bJnmFpP",
        "outputId": "4cfa0739-e223-40e5-8c89-ac1e691ac709"
      },
      "source": [
        "# Create another matrix\n",
        "another_matrix = tf.constant([[10., 7.],\n",
        "                             [3., 2.],\n",
        "                             [8., 9.]], dtype=tf.float16) # specify the data type with dtype parameter\n",
        "another_matrix"
      ],
      "id": "zWFb0bJnmFpP",
      "execution_count": 45,
      "outputs": [
        {
          "output_type": "execute_result",
          "data": {
            "text/plain": [
              "<tf.Tensor: shape=(3, 2), dtype=float16, numpy=\n",
              "array([[10.,  7.],\n",
              "       [ 3.,  2.],\n",
              "       [ 8.,  9.]], dtype=float16)>"
            ]
          },
          "metadata": {
            "tags": []
          },
          "execution_count": 45
        }
      ]
    },
    {
      "cell_type": "code",
      "metadata": {
        "colab": {
          "base_uri": "https://localhost:8080/"
        },
        "id": "oMEiRX6imFpQ",
        "outputId": "972b0c27-b97a-4dc5-d2dd-e8af60a58c61"
      },
      "source": [
        "# What's the number dimensions of another matrix?\n",
        "another_matrix.ndim"
      ],
      "id": "oMEiRX6imFpQ",
      "execution_count": 46,
      "outputs": [
        {
          "output_type": "execute_result",
          "data": {
            "text/plain": [
              "2"
            ]
          },
          "metadata": {
            "tags": []
          },
          "execution_count": 46
        }
      ]
    },
    {
      "cell_type": "code",
      "metadata": {
        "colab": {
          "base_uri": "https://localhost:8080/"
        },
        "id": "qPerz8JmmFpR",
        "outputId": "b48b649a-9d2c-4ba6-f380-805a2174bef0"
      },
      "source": [
        "# Let's create a Tensor \n",
        "tensor = tf.constant ([[[1, 2, 3],\n",
        "                       [4, 5, 6]],\n",
        "                      [[7, 8, 9],\n",
        "                      [10, 11, 12]],\n",
        "                      [[13, 14, 15],\n",
        "                      [16, 17, 18]]])\n",
        "tensor"
      ],
      "id": "qPerz8JmmFpR",
      "execution_count": 47,
      "outputs": [
        {
          "output_type": "execute_result",
          "data": {
            "text/plain": [
              "<tf.Tensor: shape=(3, 2, 3), dtype=int32, numpy=\n",
              "array([[[ 1,  2,  3],\n",
              "        [ 4,  5,  6]],\n",
              "\n",
              "       [[ 7,  8,  9],\n",
              "        [10, 11, 12]],\n",
              "\n",
              "       [[13, 14, 15],\n",
              "        [16, 17, 18]]], dtype=int32)>"
            ]
          },
          "metadata": {
            "tags": []
          },
          "execution_count": 47
        }
      ]
    },
    {
      "cell_type": "code",
      "metadata": {
        "colab": {
          "base_uri": "https://localhost:8080/"
        },
        "id": "UzTDDIA4mFpR",
        "outputId": "18b5afae-7fd1-4592-d395-4fd4c0039cbb"
      },
      "source": [
        "tensor.ndim"
      ],
      "id": "UzTDDIA4mFpR",
      "execution_count": 48,
      "outputs": [
        {
          "output_type": "execute_result",
          "data": {
            "text/plain": [
              "3"
            ]
          },
          "metadata": {
            "tags": []
          },
          "execution_count": 48
        }
      ]
    },
    {
      "cell_type": "markdown",
      "metadata": {
        "id": "7XM4iN1fmFpS"
      },
      "source": [
        "What  we've created so far:\n",
        "* Scalar: a single number\n",
        "* Vector: a number with direction (e.g. wind speed and direction)\n",
        "* Matrix: a 2-dimensional array of numbers\n",
        "* Tensor: an n-dimensional array of numbers (where n can be any number, a 0-dimensional tensor is scalar, a 1-dimensional tensor is a vector...)"
      ],
      "id": "7XM4iN1fmFpS"
    },
    {
      "cell_type": "markdown",
      "metadata": {
        "id": "b17NTI2WmFpT"
      },
      "source": [
        "### Creating tensors with 'tf.Variable'\n"
      ],
      "id": "b17NTI2WmFpT"
    },
    {
      "cell_type": "code",
      "metadata": {
        "colab": {
          "base_uri": "https://localhost:8080/"
        },
        "id": "ts0J_-eSmFpT",
        "outputId": "b058dfb5-a573-475a-efe7-4f4f7e846f1a"
      },
      "source": [
        "# Create the same tensor with tf.Variable() as above\n",
        "changeable_tensor = tf.Variable([10, 7])\n",
        "unchangeable_tensor = tf.constant([10, 7])\n",
        "changeable_tensor, unchangeable_tensor "
      ],
      "id": "ts0J_-eSmFpT",
      "execution_count": 51,
      "outputs": [
        {
          "output_type": "execute_result",
          "data": {
            "text/plain": [
              "(<tf.Variable 'Variable:0' shape=(2,) dtype=int32, numpy=array([10,  7], dtype=int32)>,\n",
              " <tf.Tensor: shape=(2,), dtype=int32, numpy=array([10,  7], dtype=int32)>)"
            ]
          },
          "metadata": {
            "tags": []
          },
          "execution_count": 51
        }
      ]
    },
    {
      "cell_type": "code",
      "metadata": {
        "colab": {
          "base_uri": "https://localhost:8080/",
          "height": 197
        },
        "id": "HBpR9nZGmFpU",
        "outputId": "ac9e706b-e9a3-4d50-c5cc-114ba78aeb58"
      },
      "source": [
        "# Let's try to change one of the elements in our changeable tensor \n",
        "changeable_tensor[0] = 7 \n",
        "changeable_tensor "
      ],
      "id": "HBpR9nZGmFpU",
      "execution_count": 52,
      "outputs": [
        {
          "output_type": "error",
          "ename": "TypeError",
          "evalue": "ignored",
          "traceback": [
            "\u001b[0;31m---------------------------------------------------------------------------\u001b[0m",
            "\u001b[0;31mTypeError\u001b[0m                                 Traceback (most recent call last)",
            "\u001b[0;32m<ipython-input-52-a50e9af1640c>\u001b[0m in \u001b[0;36m<module>\u001b[0;34m()\u001b[0m\n\u001b[1;32m      1\u001b[0m \u001b[0;31m# Let's try to change one of the elements in our changeable tensor\u001b[0m\u001b[0;34m\u001b[0m\u001b[0;34m\u001b[0m\u001b[0;34m\u001b[0m\u001b[0m\n\u001b[0;32m----> 2\u001b[0;31m \u001b[0mchangeable_tensor\u001b[0m\u001b[0;34m[\u001b[0m\u001b[0;36m0\u001b[0m\u001b[0;34m]\u001b[0m \u001b[0;34m=\u001b[0m \u001b[0;36m7\u001b[0m\u001b[0;34m\u001b[0m\u001b[0;34m\u001b[0m\u001b[0m\n\u001b[0m\u001b[1;32m      3\u001b[0m \u001b[0mchangeable_tensor\u001b[0m\u001b[0;34m\u001b[0m\u001b[0;34m\u001b[0m\u001b[0m\n",
            "\u001b[0;31mTypeError\u001b[0m: 'ResourceVariable' object does not support item assignment"
          ]
        }
      ]
    },
    {
      "cell_type": "code",
      "metadata": {
        "id": "-aBZ_yo-mFpV",
        "colab": {
          "base_uri": "https://localhost:8080/"
        },
        "outputId": "e61d5df6-14df-4022-e15a-de4c3bc82062"
      },
      "source": [
        "# How about we try .assign()\n",
        "changeable_tensor[0].assign(7)\n",
        "changeable_tensor "
      ],
      "id": "-aBZ_yo-mFpV",
      "execution_count": 53,
      "outputs": [
        {
          "output_type": "execute_result",
          "data": {
            "text/plain": [
              "<tf.Variable 'Variable:0' shape=(2,) dtype=int32, numpy=array([7, 7], dtype=int32)>"
            ]
          },
          "metadata": {
            "tags": []
          },
          "execution_count": 53
        }
      ]
    },
    {
      "cell_type": "code",
      "metadata": {
        "id": "0EGHGSUbmFpV",
        "colab": {
          "base_uri": "https://localhost:8080/",
          "height": 197
        },
        "outputId": "ea76fa97-94c3-48c2-cde8-ebb37c7edb3e"
      },
      "source": [
        "# Let's try to change our unchangeable tensor\n",
        "unchangeable_tensor[0].assign(7)\n",
        "unchangeable_tensor"
      ],
      "id": "0EGHGSUbmFpV",
      "execution_count": 54,
      "outputs": [
        {
          "output_type": "error",
          "ename": "AttributeError",
          "evalue": "ignored",
          "traceback": [
            "\u001b[0;31m---------------------------------------------------------------------------\u001b[0m",
            "\u001b[0;31mAttributeError\u001b[0m                            Traceback (most recent call last)",
            "\u001b[0;32m<ipython-input-54-e15f86a012d5>\u001b[0m in \u001b[0;36m<module>\u001b[0;34m()\u001b[0m\n\u001b[1;32m      1\u001b[0m \u001b[0;31m# Let's try to change our unchangeable tensor\u001b[0m\u001b[0;34m\u001b[0m\u001b[0;34m\u001b[0m\u001b[0;34m\u001b[0m\u001b[0m\n\u001b[0;32m----> 2\u001b[0;31m \u001b[0munchangeable_tensor\u001b[0m\u001b[0;34m[\u001b[0m\u001b[0;36m0\u001b[0m\u001b[0;34m]\u001b[0m\u001b[0;34m.\u001b[0m\u001b[0massign\u001b[0m\u001b[0;34m(\u001b[0m\u001b[0;36m7\u001b[0m\u001b[0;34m)\u001b[0m\u001b[0;34m\u001b[0m\u001b[0;34m\u001b[0m\u001b[0m\n\u001b[0m\u001b[1;32m      3\u001b[0m \u001b[0munchangeable_tensor\u001b[0m\u001b[0;34m\u001b[0m\u001b[0;34m\u001b[0m\u001b[0m\n",
            "\u001b[0;31mAttributeError\u001b[0m: 'tensorflow.python.framework.ops.EagerTensor' object has no attribute 'assign'"
          ]
        }
      ]
    },
    {
      "cell_type": "markdown",
      "metadata": {
        "id": "ofpf7n9jmFpW"
      },
      "source": [
        "🔑 **Note:** Rarely in practice will you need to decide whether to use `tf.constant` or `tf.Variable` to create tensors, as Tensorflow does this for you. However, if in doubt, use `tf.constant` and change it later if needed."
      ],
      "id": "ofpf7n9jmFpW"
    },
    {
      "cell_type": "markdown",
      "metadata": {
        "id": "7i0IMQx8mFpW"
      },
      "source": [
        "### Creating random tensors\n",
        "\n",
        "Ranndom tensors are tensors of some abitrary size wiich contain random numbers"
      ],
      "id": "7i0IMQx8mFpW"
    },
    {
      "cell_type": "code",
      "metadata": {
        "id": "H-ktUJ6OmFpW",
        "colab": {
          "base_uri": "https://localhost:8080/"
        },
        "outputId": "874f1cd8-2b60-432b-eb13-61f7f0620cb6"
      },
      "source": [
        "# Create two random (but the same) tensors\n",
        "random_1 = tf.random.Generator.from_seed(7) # set seed for reproducibility ()\n",
        "random_1 = random_1.normal(shape=(3, 2))\n",
        "random_2 = tf.random.Generator.from_seed(7)\n",
        "random_2 = random_2.normal(shape=(3,2))\n",
        "\n",
        "# Are they equal?\n",
        "random_1, random_2, random_1 == random_2,"
      ],
      "id": "H-ktUJ6OmFpW",
      "execution_count": 55,
      "outputs": [
        {
          "output_type": "execute_result",
          "data": {
            "text/plain": [
              "(<tf.Tensor: shape=(3, 2), dtype=float32, numpy=\n",
              " array([[-1.3240396 ,  0.28785667],\n",
              "        [-0.8757901 , -0.08857018],\n",
              "        [ 0.69211644,  0.84215707]], dtype=float32)>,\n",
              " <tf.Tensor: shape=(3, 2), dtype=float32, numpy=\n",
              " array([[-1.3240396 ,  0.28785667],\n",
              "        [-0.8757901 , -0.08857018],\n",
              "        [ 0.69211644,  0.84215707]], dtype=float32)>,\n",
              " <tf.Tensor: shape=(3, 2), dtype=bool, numpy=\n",
              " array([[ True,  True],\n",
              "        [ True,  True],\n",
              "        [ True,  True]])>)"
            ]
          },
          "metadata": {
            "tags": []
          },
          "execution_count": 55
        }
      ]
    },
    {
      "cell_type": "markdown",
      "metadata": {
        "id": "E32FMreUmFpX"
      },
      "source": [
        "*texto em itálico*## Shuffle the order of elements in a tensor "
      ],
      "id": "E32FMreUmFpX"
    },
    {
      "cell_type": "code",
      "metadata": {
        "id": "_DE4fxvYmFpX",
        "colab": {
          "base_uri": "https://localhost:8080/"
        },
        "outputId": "df70bdfa-6d76-4766-c316-ecf6ba555ea8"
      },
      "source": [
        "# Shuffle a tensor (valuable for when you want to shuffle your data so the inherent order doesn't effect learning)\n",
        "not_shuffled = tf.constant ([[10, 7],\n",
        "                            [3, 4],\n",
        "                            [2, 5]])\n",
        "#Shuffle our non_shuffled tensor \n",
        "tf.random.shuffle(not_shuffled)"
      ],
      "id": "_DE4fxvYmFpX",
      "execution_count": 56,
      "outputs": [
        {
          "output_type": "execute_result",
          "data": {
            "text/plain": [
              "<tf.Tensor: shape=(3, 2), dtype=int32, numpy=\n",
              "array([[10,  7],\n",
              "       [ 3,  4],\n",
              "       [ 2,  5]], dtype=int32)>"
            ]
          },
          "metadata": {
            "tags": []
          },
          "execution_count": 56
        }
      ]
    },
    {
      "cell_type": "code",
      "metadata": {
        "id": "ZssaFQK0mFpX",
        "colab": {
          "base_uri": "https://localhost:8080/"
        },
        "outputId": "01028b8f-0545-4f9b-81a5-efcb1d08866b"
      },
      "source": [
        "#Shuffle our non_shuffled tensor \n",
        "tf.random.set_seed(42)\n",
        "tf.random.shuffle(not_shuffled, seed=42)"
      ],
      "id": "ZssaFQK0mFpX",
      "execution_count": 57,
      "outputs": [
        {
          "output_type": "execute_result",
          "data": {
            "text/plain": [
              "<tf.Tensor: shape=(3, 2), dtype=int32, numpy=\n",
              "array([[10,  7],\n",
              "       [ 3,  4],\n",
              "       [ 2,  5]], dtype=int32)>"
            ]
          },
          "metadata": {
            "tags": []
          },
          "execution_count": 57
        }
      ]
    },
    {
      "cell_type": "code",
      "metadata": {
        "scrolled": true,
        "id": "SjkTcIummFpY",
        "colab": {
          "base_uri": "https://localhost:8080/"
        },
        "outputId": "4a09732b-f056-48e1-f5fe-4f54eba4fef0"
      },
      "source": [
        "not_shuffled"
      ],
      "id": "SjkTcIummFpY",
      "execution_count": 58,
      "outputs": [
        {
          "output_type": "execute_result",
          "data": {
            "text/plain": [
              "<tf.Tensor: shape=(3, 2), dtype=int32, numpy=\n",
              "array([[10,  7],\n",
              "       [ 3,  4],\n",
              "       [ 2,  5]], dtype=int32)>"
            ]
          },
          "metadata": {
            "tags": []
          },
          "execution_count": 58
        }
      ]
    },
    {
      "cell_type": "markdown",
      "metadata": {
        "id": "K4XcwhAzmFpY"
      },
      "source": [
        "🛠️ **Exercise:** Read through Tensorflow documentation on random seed generation:\n",
        "https://www.tensorflow.org/api_docs/python/tf/random/set_seed and practice writign 5 random tensors and shuffle them.\n",
        "\n",
        "It looks like if we want our shuffled tensors to be in hte same order, we've got to use the global level random seed as well as the operation level random seed:\n",
        "\n",
        "> Rule 4: \"If both the global and the operation seed are set: Both seeds are used in conjunction to determine the random sequence.\""
      ],
      "id": "K4XcwhAzmFpY"
    },
    {
      "cell_type": "code",
      "metadata": {
        "scrolled": true,
        "id": "kdDG5lVKmFpZ",
        "colab": {
          "base_uri": "https://localhost:8080/"
        },
        "outputId": "d4176d32-9419-4522-ad85-fa1ceb7c4812"
      },
      "source": [
        "tf.random.set_seed(42) # global level random seed\n",
        "tf.random.shuffle(not_shuffled, seed=42) #operation level random seed "
      ],
      "id": "kdDG5lVKmFpZ",
      "execution_count": 59,
      "outputs": [
        {
          "output_type": "execute_result",
          "data": {
            "text/plain": [
              "<tf.Tensor: shape=(3, 2), dtype=int32, numpy=\n",
              "array([[10,  7],\n",
              "       [ 3,  4],\n",
              "       [ 2,  5]], dtype=int32)>"
            ]
          },
          "metadata": {
            "tags": []
          },
          "execution_count": 59
        }
      ]
    },
    {
      "cell_type": "markdown",
      "metadata": {
        "id": "rW27HduUmFpZ"
      },
      "source": [
        "### Other ways to make tensor"
      ],
      "id": "rW27HduUmFpZ"
    },
    {
      "cell_type": "code",
      "metadata": {
        "id": "3anRUXt7mFpa",
        "colab": {
          "base_uri": "https://localhost:8080/"
        },
        "outputId": "530731c1-2556-41c8-b068-904886fd8317"
      },
      "source": [
        "# Create a tensor of all ones\n",
        "tf.ones([10,7])"
      ],
      "id": "3anRUXt7mFpa",
      "execution_count": 60,
      "outputs": [
        {
          "output_type": "execute_result",
          "data": {
            "text/plain": [
              "<tf.Tensor: shape=(10, 7), dtype=float32, numpy=\n",
              "array([[1., 1., 1., 1., 1., 1., 1.],\n",
              "       [1., 1., 1., 1., 1., 1., 1.],\n",
              "       [1., 1., 1., 1., 1., 1., 1.],\n",
              "       [1., 1., 1., 1., 1., 1., 1.],\n",
              "       [1., 1., 1., 1., 1., 1., 1.],\n",
              "       [1., 1., 1., 1., 1., 1., 1.],\n",
              "       [1., 1., 1., 1., 1., 1., 1.],\n",
              "       [1., 1., 1., 1., 1., 1., 1.],\n",
              "       [1., 1., 1., 1., 1., 1., 1.],\n",
              "       [1., 1., 1., 1., 1., 1., 1.]], dtype=float32)>"
            ]
          },
          "metadata": {
            "tags": []
          },
          "execution_count": 60
        }
      ]
    },
    {
      "cell_type": "code",
      "metadata": {
        "id": "XUdQ8JUAmFpa",
        "colab": {
          "base_uri": "https://localhost:8080/"
        },
        "outputId": "59b32b26-6a8b-4768-deae-9731aabdc07a"
      },
      "source": [
        "# Create a tensor of all zeros\n",
        "tf.zeros(shape=(3,4))"
      ],
      "id": "XUdQ8JUAmFpa",
      "execution_count": 61,
      "outputs": [
        {
          "output_type": "execute_result",
          "data": {
            "text/plain": [
              "<tf.Tensor: shape=(3, 4), dtype=float32, numpy=\n",
              "array([[0., 0., 0., 0.],\n",
              "       [0., 0., 0., 0.],\n",
              "       [0., 0., 0., 0.]], dtype=float32)>"
            ]
          },
          "metadata": {
            "tags": []
          },
          "execution_count": 61
        }
      ]
    },
    {
      "cell_type": "markdown",
      "metadata": {
        "id": "U4z4heuemFpb"
      },
      "source": [
        "### Turn NumPy arrays into tensors\n",
        "\n",
        "The main difference between NumPy arrays and Tensorflow tensor is that tensors can be runed on GPU computing"
      ],
      "id": "U4z4heuemFpb"
    },
    {
      "cell_type": "code",
      "metadata": {
        "id": "XGk2DsH7mFpb",
        "colab": {
          "base_uri": "https://localhost:8080/"
        },
        "outputId": "2fbe01b0-09f7-49c0-90e0-3e89657863df"
      },
      "source": [
        "# You cand also turn NumPy arrays into tensors\n",
        "import numpy as np\n",
        "numpy_A = np.arange(1, 25, dtype=np.int32) # create a nnmpy array between 1 and 25\n",
        "numpy_A\n",
        "# x = tf.contant(some_matrix) # capital for matrix or tensor \n",
        "# y = tf.constant(vector) # non-capital for vector"
      ],
      "id": "XGk2DsH7mFpb",
      "execution_count": 62,
      "outputs": [
        {
          "output_type": "execute_result",
          "data": {
            "text/plain": [
              "array([ 1,  2,  3,  4,  5,  6,  7,  8,  9, 10, 11, 12, 13, 14, 15, 16, 17,\n",
              "       18, 19, 20, 21, 22, 23, 24], dtype=int32)"
            ]
          },
          "metadata": {
            "tags": []
          },
          "execution_count": 62
        }
      ]
    },
    {
      "cell_type": "code",
      "metadata": {
        "id": "Qy5E3-7MmFpb",
        "colab": {
          "base_uri": "https://localhost:8080/"
        },
        "outputId": "440b33b1-1f8d-4445-9559-1112c73ddedf"
      },
      "source": [
        "2 * 3 * 4"
      ],
      "id": "Qy5E3-7MmFpb",
      "execution_count": 63,
      "outputs": [
        {
          "output_type": "execute_result",
          "data": {
            "text/plain": [
              "24"
            ]
          },
          "metadata": {
            "tags": []
          },
          "execution_count": 63
        }
      ]
    },
    {
      "cell_type": "code",
      "metadata": {
        "id": "6bhmVNnumFpc",
        "colab": {
          "base_uri": "https://localhost:8080/"
        },
        "outputId": "dfb3deeb-9e1f-47f2-cfb6-ae00187406fb"
      },
      "source": [
        "3 * 8"
      ],
      "id": "6bhmVNnumFpc",
      "execution_count": 64,
      "outputs": [
        {
          "output_type": "execute_result",
          "data": {
            "text/plain": [
              "24"
            ]
          },
          "metadata": {
            "tags": []
          },
          "execution_count": 64
        }
      ]
    },
    {
      "cell_type": "code",
      "metadata": {
        "id": "Low1bv8rmFpc",
        "colab": {
          "base_uri": "https://localhost:8080/"
        },
        "outputId": "2e358816-8c1c-4588-eaf2-44b15f968fc5"
      },
      "source": [
        "A = tf.constant(numpy_A, shape=(2, 3, 4))\n",
        "B = tf.constant(numpy_A, shape=(3, 8))\n",
        "C = tf.constant(numpy_A)\n",
        "A, B, C"
      ],
      "id": "Low1bv8rmFpc",
      "execution_count": 65,
      "outputs": [
        {
          "output_type": "execute_result",
          "data": {
            "text/plain": [
              "(<tf.Tensor: shape=(2, 3, 4), dtype=int32, numpy=\n",
              " array([[[ 1,  2,  3,  4],\n",
              "         [ 5,  6,  7,  8],\n",
              "         [ 9, 10, 11, 12]],\n",
              " \n",
              "        [[13, 14, 15, 16],\n",
              "         [17, 18, 19, 20],\n",
              "         [21, 22, 23, 24]]], dtype=int32)>,\n",
              " <tf.Tensor: shape=(3, 8), dtype=int32, numpy=\n",
              " array([[ 1,  2,  3,  4,  5,  6,  7,  8],\n",
              "        [ 9, 10, 11, 12, 13, 14, 15, 16],\n",
              "        [17, 18, 19, 20, 21, 22, 23, 24]], dtype=int32)>,\n",
              " <tf.Tensor: shape=(24,), dtype=int32, numpy=\n",
              " array([ 1,  2,  3,  4,  5,  6,  7,  8,  9, 10, 11, 12, 13, 14, 15, 16, 17,\n",
              "        18, 19, 20, 21, 22, 23, 24], dtype=int32)>)"
            ]
          },
          "metadata": {
            "tags": []
          },
          "execution_count": 65
        }
      ]
    },
    {
      "cell_type": "markdown",
      "metadata": {
        "id": "5p_gHAW1mFpd"
      },
      "source": [
        "### Getting informations from tensors\n",
        "\n",
        "When dealing with tensors you probably want to be aware of the following attributes:\n",
        "\n",
        "* **Shape** / The length (number of elements) of each of the dimensions of a tensor / `tensor.shape`\n",
        "* **Rank** / the number of the tensor dimension ( scalar, vector, matrix, n...) / `tensor.ndim`\n",
        "* **Axis or dimension** / A particular dimension of a tensor / `tensor[0]`, `tensor[:, 1]`...\n",
        "* **Size** / Total number of items in the tensor / `tf.size(tensor`"
      ],
      "id": "5p_gHAW1mFpd"
    },
    {
      "cell_type": "code",
      "metadata": {
        "id": "ygIo6KJQmFpd",
        "colab": {
          "base_uri": "https://localhost:8080/"
        },
        "outputId": "4c677646-1f54-43a2-fa11-e2303536927a"
      },
      "source": [
        "# Create a rank 4 tensor (4 dimensions)\n",
        "rank_4_tensor = tf.zeros(shape=(2,3,4,5))\n",
        "rank_4_tensor"
      ],
      "id": "ygIo6KJQmFpd",
      "execution_count": 66,
      "outputs": [
        {
          "output_type": "execute_result",
          "data": {
            "text/plain": [
              "<tf.Tensor: shape=(2, 3, 4, 5), dtype=float32, numpy=\n",
              "array([[[[0., 0., 0., 0., 0.],\n",
              "         [0., 0., 0., 0., 0.],\n",
              "         [0., 0., 0., 0., 0.],\n",
              "         [0., 0., 0., 0., 0.]],\n",
              "\n",
              "        [[0., 0., 0., 0., 0.],\n",
              "         [0., 0., 0., 0., 0.],\n",
              "         [0., 0., 0., 0., 0.],\n",
              "         [0., 0., 0., 0., 0.]],\n",
              "\n",
              "        [[0., 0., 0., 0., 0.],\n",
              "         [0., 0., 0., 0., 0.],\n",
              "         [0., 0., 0., 0., 0.],\n",
              "         [0., 0., 0., 0., 0.]]],\n",
              "\n",
              "\n",
              "       [[[0., 0., 0., 0., 0.],\n",
              "         [0., 0., 0., 0., 0.],\n",
              "         [0., 0., 0., 0., 0.],\n",
              "         [0., 0., 0., 0., 0.]],\n",
              "\n",
              "        [[0., 0., 0., 0., 0.],\n",
              "         [0., 0., 0., 0., 0.],\n",
              "         [0., 0., 0., 0., 0.],\n",
              "         [0., 0., 0., 0., 0.]],\n",
              "\n",
              "        [[0., 0., 0., 0., 0.],\n",
              "         [0., 0., 0., 0., 0.],\n",
              "         [0., 0., 0., 0., 0.],\n",
              "         [0., 0., 0., 0., 0.]]]], dtype=float32)>"
            ]
          },
          "metadata": {
            "tags": []
          },
          "execution_count": 66
        }
      ]
    },
    {
      "cell_type": "code",
      "metadata": {
        "id": "IJIJ8bkEmFpd",
        "colab": {
          "base_uri": "https://localhost:8080/"
        },
        "outputId": "1dd57fcc-4c8c-42ac-8f21-66d4d2583270"
      },
      "source": [
        "rank_4_tensor[0]"
      ],
      "id": "IJIJ8bkEmFpd",
      "execution_count": 67,
      "outputs": [
        {
          "output_type": "execute_result",
          "data": {
            "text/plain": [
              "<tf.Tensor: shape=(3, 4, 5), dtype=float32, numpy=\n",
              "array([[[0., 0., 0., 0., 0.],\n",
              "        [0., 0., 0., 0., 0.],\n",
              "        [0., 0., 0., 0., 0.],\n",
              "        [0., 0., 0., 0., 0.]],\n",
              "\n",
              "       [[0., 0., 0., 0., 0.],\n",
              "        [0., 0., 0., 0., 0.],\n",
              "        [0., 0., 0., 0., 0.],\n",
              "        [0., 0., 0., 0., 0.]],\n",
              "\n",
              "       [[0., 0., 0., 0., 0.],\n",
              "        [0., 0., 0., 0., 0.],\n",
              "        [0., 0., 0., 0., 0.],\n",
              "        [0., 0., 0., 0., 0.]]], dtype=float32)>"
            ]
          },
          "metadata": {
            "tags": []
          },
          "execution_count": 67
        }
      ]
    },
    {
      "cell_type": "code",
      "metadata": {
        "scrolled": true,
        "id": "t4apSZJAmFpe",
        "colab": {
          "base_uri": "https://localhost:8080/"
        },
        "outputId": "0a287611-09bd-49b4-9f77-6e6bf2218a42"
      },
      "source": [
        "rank_4_tensor.shape, rank_4_tensor.ndim, tf.size(rank_4_tensor)"
      ],
      "id": "t4apSZJAmFpe",
      "execution_count": 68,
      "outputs": [
        {
          "output_type": "execute_result",
          "data": {
            "text/plain": [
              "(TensorShape([2, 3, 4, 5]), 4, <tf.Tensor: shape=(), dtype=int32, numpy=120>)"
            ]
          },
          "metadata": {
            "tags": []
          },
          "execution_count": 68
        }
      ]
    },
    {
      "cell_type": "code",
      "metadata": {
        "id": "rFLlSY3tmFpe",
        "colab": {
          "base_uri": "https://localhost:8080/"
        },
        "outputId": "baf9878c-56bd-430d-e150-d5195b5f3286"
      },
      "source": [
        "2 * 3 * 4 * 5 "
      ],
      "id": "rFLlSY3tmFpe",
      "execution_count": 69,
      "outputs": [
        {
          "output_type": "execute_result",
          "data": {
            "text/plain": [
              "120"
            ]
          },
          "metadata": {
            "tags": []
          },
          "execution_count": 69
        }
      ]
    },
    {
      "cell_type": "code",
      "metadata": {
        "id": "trKNEAbymFpf",
        "colab": {
          "base_uri": "https://localhost:8080/"
        },
        "outputId": "f7f213c3-97c7-4906-c5dd-0ad1b73b459a"
      },
      "source": [
        "# Get various attributes of our tensor]\n",
        "print(\"Datatype of every element:\", rank_4_tensor.dtype)\n",
        "print(\"Number of dimensions (rank):\", rank_4_tensor.ndim)\n",
        "print(\"Shape of tensor:\", rank_4_tensor.shape)\n",
        "print(\"Elements along the 0 axis:\", rank_4_tensor.shape[0])\n",
        "print(\"Elements along the last axis:\", rank_4_tensor.shape[-1])\n",
        "print(\"Total number of elements in our tensor:\", tf.size(rank_4_tensor)) \n",
        "print(\"Total number of elements in our tensor:\", tf.size(rank_4_tensor).numpy()) # add `.numpy` for single output"
      ],
      "id": "trKNEAbymFpf",
      "execution_count": 70,
      "outputs": [
        {
          "output_type": "stream",
          "text": [
            "Datatype of every element: <dtype: 'float32'>\n",
            "Number of dimensions (rank): 4\n",
            "Shape of tensor: (2, 3, 4, 5)\n",
            "Elements along the 0 axis: 2\n",
            "Elements along the last axis: 5\n",
            "Total number of elements in our tensor: tf.Tensor(120, shape=(), dtype=int32)\n",
            "Total number of elements in our tensor: 120\n"
          ],
          "name": "stdout"
        }
      ]
    },
    {
      "cell_type": "markdown",
      "metadata": {
        "id": "NuuHDwkfmFpf"
      },
      "source": [
        "### Indexing tensor \n",
        "\n",
        "Tensors can be indexed just like Python lists"
      ],
      "id": "NuuHDwkfmFpf"
    },
    {
      "cell_type": "code",
      "metadata": {
        "id": "xyBrVG4fmFpf",
        "colab": {
          "base_uri": "https://localhost:8080/"
        },
        "outputId": "cf3cc66d-16d7-40eb-c05c-d0f525bfe03c"
      },
      "source": [
        "some_list = [1, 2, 3, 4]\n",
        "some_list[:2]"
      ],
      "id": "xyBrVG4fmFpf",
      "execution_count": 71,
      "outputs": [
        {
          "output_type": "execute_result",
          "data": {
            "text/plain": [
              "[1, 2]"
            ]
          },
          "metadata": {
            "tags": []
          },
          "execution_count": 71
        }
      ]
    },
    {
      "cell_type": "code",
      "metadata": {
        "id": "xVuQIgrYmFpg",
        "colab": {
          "base_uri": "https://localhost:8080/"
        },
        "outputId": "742da609-09c8-4aab-83ae-a4669e930ee7"
      },
      "source": [
        "# Get the first 2 elements of each dimension\n",
        "rank_4_tensor[:2, :2, :2, :2]"
      ],
      "id": "xVuQIgrYmFpg",
      "execution_count": 72,
      "outputs": [
        {
          "output_type": "execute_result",
          "data": {
            "text/plain": [
              "<tf.Tensor: shape=(2, 2, 2, 2), dtype=float32, numpy=\n",
              "array([[[[0., 0.],\n",
              "         [0., 0.]],\n",
              "\n",
              "        [[0., 0.],\n",
              "         [0., 0.]]],\n",
              "\n",
              "\n",
              "       [[[0., 0.],\n",
              "         [0., 0.]],\n",
              "\n",
              "        [[0., 0.],\n",
              "         [0., 0.]]]], dtype=float32)>"
            ]
          },
          "metadata": {
            "tags": []
          },
          "execution_count": 72
        }
      ]
    },
    {
      "cell_type": "code",
      "metadata": {
        "id": "LV_Wp3w2mFpg",
        "colab": {
          "base_uri": "https://localhost:8080/"
        },
        "outputId": "7dffc345-f1dc-475a-d582-676d9dc01d65"
      },
      "source": [
        "# Get the first element from each dimensions from each index except for the final one\n",
        "rank_4_tensor[:1, :1, :1, :]"
      ],
      "id": "LV_Wp3w2mFpg",
      "execution_count": 73,
      "outputs": [
        {
          "output_type": "execute_result",
          "data": {
            "text/plain": [
              "<tf.Tensor: shape=(1, 1, 1, 5), dtype=float32, numpy=array([[[[0., 0., 0., 0., 0.]]]], dtype=float32)>"
            ]
          },
          "metadata": {
            "tags": []
          },
          "execution_count": 73
        }
      ]
    },
    {
      "cell_type": "code",
      "metadata": {
        "id": "tc3HOVoemFpg",
        "colab": {
          "base_uri": "https://localhost:8080/"
        },
        "outputId": "9b9706fc-5b75-4933-fdf9-42886ae30334"
      },
      "source": [
        "#Create a rank 2 tensor (2 dimensions)\n",
        "rank_2_tensor = tf.constant([[10, 7],\n",
        "                           [3, 4]])\n",
        "rank_2_tensor"
      ],
      "id": "tc3HOVoemFpg",
      "execution_count": 74,
      "outputs": [
        {
          "output_type": "execute_result",
          "data": {
            "text/plain": [
              "<tf.Tensor: shape=(2, 2), dtype=int32, numpy=\n",
              "array([[10,  7],\n",
              "       [ 3,  4]], dtype=int32)>"
            ]
          },
          "metadata": {
            "tags": []
          },
          "execution_count": 74
        }
      ]
    },
    {
      "cell_type": "code",
      "metadata": {
        "id": "tMlD20tnmFph",
        "colab": {
          "base_uri": "https://localhost:8080/"
        },
        "outputId": "7c06731f-6bc8-4ade-c0c0-354e968e5102"
      },
      "source": [
        "print(\"Datatype of every element:\", rank_2_tensor.dtype)\n",
        "print(\"Number of dimensions (rank):\", rank_2_tensor.ndim)\n",
        "print(\"Shape of tensor:\", rank_2_tensor.shape)\n",
        "print(\"Elements along the 0 axis:\", rank_2_tensor.shape[0])\n",
        "print(\"Elements along the last axis:\", rank_2_tensor.shape[-1])\n",
        "print(\"Total number of elements in our tensor:\", tf.size(rank_2_tensor)) \n",
        "print(\"Total number of elements in our tensor:\", tf.size(rank_2_tensor).numpy()) # add \".numpy\" for single output"
      ],
      "id": "tMlD20tnmFph",
      "execution_count": 75,
      "outputs": [
        {
          "output_type": "stream",
          "text": [
            "Datatype of every element: <dtype: 'int32'>\n",
            "Number of dimensions (rank): 2\n",
            "Shape of tensor: (2, 2)\n",
            "Elements along the 0 axis: 2\n",
            "Elements along the last axis: 2\n",
            "Total number of elements in our tensor: tf.Tensor(4, shape=(), dtype=int32)\n",
            "Total number of elements in our tensor: 4\n"
          ],
          "name": "stdout"
        }
      ]
    },
    {
      "cell_type": "code",
      "metadata": {
        "id": "NtGGO3bgmFpi",
        "colab": {
          "base_uri": "https://localhost:8080/"
        },
        "outputId": "e2901b59-2966-4f1f-a582-26395b64ea92"
      },
      "source": [
        "# Get the last item of each row of our rank 2 tensor\n",
        "rank_2_tensor[:, -1]"
      ],
      "id": "NtGGO3bgmFpi",
      "execution_count": 76,
      "outputs": [
        {
          "output_type": "execute_result",
          "data": {
            "text/plain": [
              "<tf.Tensor: shape=(2,), dtype=int32, numpy=array([7, 4], dtype=int32)>"
            ]
          },
          "metadata": {
            "tags": []
          },
          "execution_count": 76
        }
      ]
    },
    {
      "cell_type": "code",
      "metadata": {
        "id": "mIGTE8lwmFpi",
        "colab": {
          "base_uri": "https://localhost:8080/"
        },
        "outputId": "e3f704b2-f931-402f-e189-5367f828930c"
      },
      "source": [
        "# Add in extra dimensions to our rank 2 tensor\n",
        "rank_3_tensor = rank_2_tensor[..., tf.newaxis] # \"...\" add new axis to the end\n",
        "rank_3_tensor"
      ],
      "id": "mIGTE8lwmFpi",
      "execution_count": 77,
      "outputs": [
        {
          "output_type": "execute_result",
          "data": {
            "text/plain": [
              "<tf.Tensor: shape=(2, 2, 1), dtype=int32, numpy=\n",
              "array([[[10],\n",
              "        [ 7]],\n",
              "\n",
              "       [[ 3],\n",
              "        [ 4]]], dtype=int32)>"
            ]
          },
          "metadata": {
            "tags": []
          },
          "execution_count": 77
        }
      ]
    },
    {
      "cell_type": "code",
      "metadata": {
        "id": "gonQTcPrmFpj",
        "colab": {
          "base_uri": "https://localhost:8080/"
        },
        "outputId": "3cff409f-9344-42ab-c667-ff84e3a7b431"
      },
      "source": [
        "# Alternative to \"tf.newaxis\"\n",
        "tf.expand_dims(rank_2_tensor, axis=-1) # \"-1\" means expand the final axis"
      ],
      "id": "gonQTcPrmFpj",
      "execution_count": 78,
      "outputs": [
        {
          "output_type": "execute_result",
          "data": {
            "text/plain": [
              "<tf.Tensor: shape=(2, 2, 1), dtype=int32, numpy=\n",
              "array([[[10],\n",
              "        [ 7]],\n",
              "\n",
              "       [[ 3],\n",
              "        [ 4]]], dtype=int32)>"
            ]
          },
          "metadata": {
            "tags": []
          },
          "execution_count": 78
        }
      ]
    },
    {
      "cell_type": "code",
      "metadata": {
        "id": "Wh928kAAmFpj",
        "colab": {
          "base_uri": "https://localhost:8080/"
        },
        "outputId": "1e07ce4e-c0d1-4fc2-e122-d4a4f0a60115"
      },
      "source": [
        "# Expand the 0 axis\n",
        "tf.expand_dims(rank_2_tensor, axis=0) "
      ],
      "id": "Wh928kAAmFpj",
      "execution_count": 79,
      "outputs": [
        {
          "output_type": "execute_result",
          "data": {
            "text/plain": [
              "<tf.Tensor: shape=(1, 2, 2), dtype=int32, numpy=\n",
              "array([[[10,  7],\n",
              "        [ 3,  4]]], dtype=int32)>"
            ]
          },
          "metadata": {
            "tags": []
          },
          "execution_count": 79
        }
      ]
    },
    {
      "cell_type": "markdown",
      "metadata": {
        "id": "HBccDNLlmFpj"
      },
      "source": [
        "### Manipulating tensor (tensor operations)"
      ],
      "id": "HBccDNLlmFpj"
    },
    {
      "cell_type": "markdown",
      "metadata": {
        "id": "JpfaAlpumFpj"
      },
      "source": [
        "### Basic operations \n",
        "\n",
        "`+`, `-`, `*`, `/`"
      ],
      "id": "JpfaAlpumFpj"
    },
    {
      "cell_type": "code",
      "metadata": {
        "id": "867k7q2bmFpk",
        "colab": {
          "base_uri": "https://localhost:8080/"
        },
        "outputId": "f41e21a6-5e9a-43c5-8d92-9e49e90fe544"
      },
      "source": [
        "# You can add values to a tensor using the addition operator\n",
        "tensor = tf.constant([[10, 7],\n",
        "                     [3, 4]])\n",
        "tensor + 10"
      ],
      "id": "867k7q2bmFpk",
      "execution_count": 80,
      "outputs": [
        {
          "output_type": "execute_result",
          "data": {
            "text/plain": [
              "<tf.Tensor: shape=(2, 2), dtype=int32, numpy=\n",
              "array([[20, 17],\n",
              "       [13, 14]], dtype=int32)>"
            ]
          },
          "metadata": {
            "tags": []
          },
          "execution_count": 80
        }
      ]
    },
    {
      "cell_type": "code",
      "metadata": {
        "id": "mRpn_lzJmFpk",
        "colab": {
          "base_uri": "https://localhost:8080/"
        },
        "outputId": "22141ece-16b2-4e08-ad56-25047571c28f"
      },
      "source": [
        "# Original tensor is unchanged\n",
        "tensor"
      ],
      "id": "mRpn_lzJmFpk",
      "execution_count": 81,
      "outputs": [
        {
          "output_type": "execute_result",
          "data": {
            "text/plain": [
              "<tf.Tensor: shape=(2, 2), dtype=int32, numpy=\n",
              "array([[10,  7],\n",
              "       [ 3,  4]], dtype=int32)>"
            ]
          },
          "metadata": {
            "tags": []
          },
          "execution_count": 81
        }
      ]
    },
    {
      "cell_type": "code",
      "metadata": {
        "id": "9Ti1Mm4MmFpk",
        "colab": {
          "base_uri": "https://localhost:8080/"
        },
        "outputId": "4406ddca-b8e2-4512-a067-78861f3b0288"
      },
      "source": [
        "# Multiplication\n",
        "tensor * 10 "
      ],
      "id": "9Ti1Mm4MmFpk",
      "execution_count": 82,
      "outputs": [
        {
          "output_type": "execute_result",
          "data": {
            "text/plain": [
              "<tf.Tensor: shape=(2, 2), dtype=int32, numpy=\n",
              "array([[100,  70],\n",
              "       [ 30,  40]], dtype=int32)>"
            ]
          },
          "metadata": {
            "tags": []
          },
          "execution_count": 82
        }
      ]
    },
    {
      "cell_type": "code",
      "metadata": {
        "id": "E4d1qqKBmFpl",
        "colab": {
          "base_uri": "https://localhost:8080/"
        },
        "outputId": "2fa322e0-71f8-428c-d76b-a4fa569b2a44"
      },
      "source": [
        "# Substraction\n",
        "tensor - 10"
      ],
      "id": "E4d1qqKBmFpl",
      "execution_count": 83,
      "outputs": [
        {
          "output_type": "execute_result",
          "data": {
            "text/plain": [
              "<tf.Tensor: shape=(2, 2), dtype=int32, numpy=\n",
              "array([[ 0, -3],\n",
              "       [-7, -6]], dtype=int32)>"
            ]
          },
          "metadata": {
            "tags": []
          },
          "execution_count": 83
        }
      ]
    },
    {
      "cell_type": "code",
      "metadata": {
        "id": "MUB-x1GImFpl",
        "colab": {
          "base_uri": "https://localhost:8080/"
        },
        "outputId": "bea351ac-56d5-434d-99a7-8e6e0f2952f7"
      },
      "source": [
        "# We can use the tensorflow built-in function too\n",
        "tf.multiply(tensor, 10)"
      ],
      "id": "MUB-x1GImFpl",
      "execution_count": 84,
      "outputs": [
        {
          "output_type": "execute_result",
          "data": {
            "text/plain": [
              "<tf.Tensor: shape=(2, 2), dtype=int32, numpy=\n",
              "array([[100,  70],\n",
              "       [ 30,  40]], dtype=int32)>"
            ]
          },
          "metadata": {
            "tags": []
          },
          "execution_count": 84
        }
      ]
    },
    {
      "cell_type": "code",
      "metadata": {
        "id": "Nmz_hnsjmFpm",
        "colab": {
          "base_uri": "https://localhost:8080/"
        },
        "outputId": "fbef7d9d-de6a-453c-9637-e63b1021f6eb"
      },
      "source": [
        "tensor"
      ],
      "id": "Nmz_hnsjmFpm",
      "execution_count": 85,
      "outputs": [
        {
          "output_type": "execute_result",
          "data": {
            "text/plain": [
              "<tf.Tensor: shape=(2, 2), dtype=int32, numpy=\n",
              "array([[10,  7],\n",
              "       [ 3,  4]], dtype=int32)>"
            ]
          },
          "metadata": {
            "tags": []
          },
          "execution_count": 85
        }
      ]
    },
    {
      "cell_type": "markdown",
      "metadata": {
        "id": "tdRiP4BlmFpm"
      },
      "source": [
        "### Matrix multiplication\n",
        "\n",
        "In machine learning, matrix multiplication is one of the most common tensor operations\n",
        "\n",
        "There aret wo rules our tensor (or matrices) need to fulfil if we're going to matrix multiplay them:\n",
        "\n",
        "1. The inner dimension must match\n",
        "2. The resulting matrix has the shape of the outter dimensions"
      ],
      "id": "tdRiP4BlmFpm"
    },
    {
      "cell_type": "code",
      "metadata": {
        "id": "4w54enu3mFpn"
      },
      "source": [
        "# Matrix multiplication with tensorlfow\n",
        "print(tensor)\n",
        "tf.matmul(tensor, tensor)"
      ],
      "id": "4w54enu3mFpn",
      "execution_count": null,
      "outputs": []
    },
    {
      "cell_type": "code",
      "metadata": {
        "id": "S_WTCq-NmFpn"
      },
      "source": [
        "# Matrix multiplication with Python operator \"@\"\n",
        "tensor @ tensor "
      ],
      "id": "S_WTCq-NmFpn",
      "execution_count": null,
      "outputs": []
    },
    {
      "cell_type": "code",
      "metadata": {
        "id": "aoj-9eq2mFpn"
      },
      "source": [
        "# Create a tensor of (3, 2)\n",
        "x = tf.constant([[1, 2],\n",
        "                [3, 4],\n",
        "                [5, 6]])\n",
        "# Create another (2, 3)\n",
        "y = tf.constant ([[7, 8],\n",
        "                 [9, 10],\n",
        "                 [11, 12]])\n",
        "x, y "
      ],
      "id": "aoj-9eq2mFpn",
      "execution_count": null,
      "outputs": []
    },
    {
      "cell_type": "code",
      "metadata": {
        "id": "UHY_GMC4mFpn"
      },
      "source": [
        "# Reshape the tensor Y\n",
        "# Same as: `tf.transpose(tensor)`\n",
        "tf.reshape(y, shape=(2, 3))"
      ],
      "id": "UHY_GMC4mFpn",
      "execution_count": null,
      "outputs": []
    },
    {
      "cell_type": "code",
      "metadata": {
        "id": "P8jrsDsqmFpn"
      },
      "source": [
        "# Try to matrix multiply tensors of the same shape \n",
        "tf.matmul(x, y)"
      ],
      "id": "P8jrsDsqmFpn",
      "execution_count": null,
      "outputs": []
    },
    {
      "cell_type": "markdown",
      "metadata": {
        "id": "8ADmon71mFpo"
      },
      "source": [
        "### The dot product\n",
        "\n",
        "Matrix multiplication is also reffered to as the dot product\n",
        "\n",
        "You can perform matrix multiplication using:\n",
        "\n",
        "- `tf.matmul()`\n",
        "- `tf.tensordot()`"
      ],
      "id": "8ADmon71mFpo"
    },
    {
      "cell_type": "code",
      "metadata": {
        "id": "6bZ4ojO4mFpo",
        "colab": {
          "base_uri": "https://localhost:8080/",
          "height": 180
        },
        "outputId": "fe70220f-70d7-4f62-d463-90a0035d60ae"
      },
      "source": [
        "print(x)\n",
        "print(y)"
      ],
      "id": "6bZ4ojO4mFpo",
      "execution_count": 86,
      "outputs": [
        {
          "output_type": "error",
          "ename": "NameError",
          "evalue": "ignored",
          "traceback": [
            "\u001b[0;31m---------------------------------------------------------------------------\u001b[0m",
            "\u001b[0;31mNameError\u001b[0m                                 Traceback (most recent call last)",
            "\u001b[0;32m<ipython-input-86-5fe5eafd380c>\u001b[0m in \u001b[0;36m<module>\u001b[0;34m()\u001b[0m\n\u001b[0;32m----> 1\u001b[0;31m \u001b[0mprint\u001b[0m\u001b[0;34m(\u001b[0m\u001b[0mx\u001b[0m\u001b[0;34m)\u001b[0m\u001b[0;34m\u001b[0m\u001b[0;34m\u001b[0m\u001b[0m\n\u001b[0m\u001b[1;32m      2\u001b[0m \u001b[0mprint\u001b[0m\u001b[0;34m(\u001b[0m\u001b[0my\u001b[0m\u001b[0;34m)\u001b[0m\u001b[0;34m\u001b[0m\u001b[0;34m\u001b[0m\u001b[0m\n",
            "\u001b[0;31mNameError\u001b[0m: name 'x' is not defined"
          ]
        }
      ]
    },
    {
      "cell_type": "code",
      "metadata": {
        "id": "lLSPfwCYmFpp",
        "colab": {
          "base_uri": "https://localhost:8080/",
          "height": 163
        },
        "outputId": "c7689663-b631-451f-8202-77d45595ba3e"
      },
      "source": [
        "tf.matmul(x, tf.transpose(y))"
      ],
      "id": "lLSPfwCYmFpp",
      "execution_count": 87,
      "outputs": [
        {
          "output_type": "error",
          "ename": "NameError",
          "evalue": "ignored",
          "traceback": [
            "\u001b[0;31m---------------------------------------------------------------------------\u001b[0m",
            "\u001b[0;31mNameError\u001b[0m                                 Traceback (most recent call last)",
            "\u001b[0;32m<ipython-input-87-1f6eb7ba323b>\u001b[0m in \u001b[0;36m<module>\u001b[0;34m()\u001b[0m\n\u001b[0;32m----> 1\u001b[0;31m \u001b[0mtf\u001b[0m\u001b[0;34m.\u001b[0m\u001b[0mmatmul\u001b[0m\u001b[0;34m(\u001b[0m\u001b[0mx\u001b[0m\u001b[0;34m,\u001b[0m \u001b[0mtf\u001b[0m\u001b[0;34m.\u001b[0m\u001b[0mtranspose\u001b[0m\u001b[0;34m(\u001b[0m\u001b[0my\u001b[0m\u001b[0;34m)\u001b[0m\u001b[0;34m)\u001b[0m\u001b[0;34m\u001b[0m\u001b[0;34m\u001b[0m\u001b[0m\n\u001b[0m",
            "\u001b[0;31mNameError\u001b[0m: name 'x' is not defined"
          ]
        }
      ]
    },
    {
      "cell_type": "code",
      "metadata": {
        "id": "qaXTCUIZmFpp"
      },
      "source": [
        "x @ tf.transpose(y)"
      ],
      "id": "qaXTCUIZmFpp",
      "execution_count": null,
      "outputs": []
    },
    {
      "cell_type": "markdown",
      "metadata": {
        "id": "1IG393U2mFpq"
      },
      "source": [
        "### Changing the datatype of a tensor \n"
      ],
      "id": "1IG393U2mFpq"
    },
    {
      "cell_type": "code",
      "metadata": {
        "id": "YoWFK5VImFpq",
        "colab": {
          "base_uri": "https://localhost:8080/"
        },
        "outputId": "c0b12526-24aa-4bef-8e65-77ac5fb4de3d"
      },
      "source": [
        "# Create a new tensor with the default datatype (float32)\n",
        "B = tf.constant([1.7, 7.4])\n",
        "B.dtype"
      ],
      "id": "YoWFK5VImFpq",
      "execution_count": 88,
      "outputs": [
        {
          "output_type": "execute_result",
          "data": {
            "text/plain": [
              "tf.float32"
            ]
          },
          "metadata": {
            "tags": []
          },
          "execution_count": 88
        }
      ]
    },
    {
      "cell_type": "code",
      "metadata": {
        "id": "hTfDTx6cmFpq",
        "colab": {
          "base_uri": "https://localhost:8080/"
        },
        "outputId": "156526a2-8b41-4fc6-dbd1-f283e1fa1f96"
      },
      "source": [
        "C = tf.constant([7, 10])\n",
        "C.dtype"
      ],
      "id": "hTfDTx6cmFpq",
      "execution_count": 89,
      "outputs": [
        {
          "output_type": "execute_result",
          "data": {
            "text/plain": [
              "tf.int32"
            ]
          },
          "metadata": {
            "tags": []
          },
          "execution_count": 89
        }
      ]
    },
    {
      "cell_type": "code",
      "metadata": {
        "id": "oxXGlSKpmFpr",
        "colab": {
          "base_uri": "https://localhost:8080/"
        },
        "outputId": "5e601068-71a0-470a-c11b-144debc682a2"
      },
      "source": [
        "# Change from float32 to float16 (reduced precision)\n",
        "D = tf.cast(B, dtype=tf.float16)\n",
        "D, D.dtype"
      ],
      "id": "oxXGlSKpmFpr",
      "execution_count": 90,
      "outputs": [
        {
          "output_type": "execute_result",
          "data": {
            "text/plain": [
              "(<tf.Tensor: shape=(2,), dtype=float16, numpy=array([1.7, 7.4], dtype=float16)>,\n",
              " tf.float16)"
            ]
          },
          "metadata": {
            "tags": []
          },
          "execution_count": 90
        }
      ]
    },
    {
      "cell_type": "code",
      "metadata": {
        "id": "_fSPz_9NmFps",
        "colab": {
          "base_uri": "https://localhost:8080/"
        },
        "outputId": "c862ddaf-cfca-483e-bfef-bd02130e6823"
      },
      "source": [
        "# Change from int32 to float32 \n",
        "E = tf.cast(C, dtype=tf.float32)\n",
        "E"
      ],
      "id": "_fSPz_9NmFps",
      "execution_count": 91,
      "outputs": [
        {
          "output_type": "execute_result",
          "data": {
            "text/plain": [
              "<tf.Tensor: shape=(2,), dtype=float32, numpy=array([ 7., 10.], dtype=float32)>"
            ]
          },
          "metadata": {
            "tags": []
          },
          "execution_count": 91
        }
      ]
    },
    {
      "cell_type": "markdown",
      "metadata": {
        "id": "3A8S8erimFps"
      },
      "source": [
        "### Aggregating tensors\n",
        "\n",
        "Its the same as condensing them from multiple values down to asmaller amount of values "
      ],
      "id": "3A8S8erimFps"
    },
    {
      "cell_type": "code",
      "metadata": {
        "id": "UhzI944emFpt",
        "colab": {
          "base_uri": "https://localhost:8080/"
        },
        "outputId": "236a9c08-5aff-4ec6-cb20-b2e742f7986e"
      },
      "source": [
        "#Get the absolutes values \n",
        "D = tf.constant([-7, -10])\n",
        "D"
      ],
      "id": "UhzI944emFpt",
      "execution_count": 92,
      "outputs": [
        {
          "output_type": "execute_result",
          "data": {
            "text/plain": [
              "<tf.Tensor: shape=(2,), dtype=int32, numpy=array([ -7, -10], dtype=int32)>"
            ]
          },
          "metadata": {
            "tags": []
          },
          "execution_count": 92
        }
      ]
    },
    {
      "cell_type": "code",
      "metadata": {
        "id": "XgcVS8KvmFpu",
        "colab": {
          "base_uri": "https://localhost:8080/"
        },
        "outputId": "3f2da314-e088-49df-a7f0-444296a4b6a3"
      },
      "source": [
        "# Get the absolute values (take negatives and trasnform into positive)\n",
        "tf.abs(D)"
      ],
      "id": "XgcVS8KvmFpu",
      "execution_count": 93,
      "outputs": [
        {
          "output_type": "execute_result",
          "data": {
            "text/plain": [
              "<tf.Tensor: shape=(2,), dtype=int32, numpy=array([ 7, 10], dtype=int32)>"
            ]
          },
          "metadata": {
            "tags": []
          },
          "execution_count": 93
        }
      ]
    },
    {
      "cell_type": "markdown",
      "metadata": {
        "id": "8JYD8V1YmFpu"
      },
      "source": [
        "Let's go through the following forms of aggregation:\n",
        "* Get the minimum\n",
        "* Get the maximum\n",
        "* Get the mean of a tensor\n",
        "* Get the sum of a tensor \n",
        "* EXTRA: Variance\n",
        "* EXTRA: Standard deviation"
      ],
      "id": "8JYD8V1YmFpu"
    },
    {
      "cell_type": "code",
      "metadata": {
        "id": "JxphHalbmFpv",
        "colab": {
          "base_uri": "https://localhost:8080/"
        },
        "outputId": "e372166c-1b93-458b-8b09-b0533b1b3282"
      },
      "source": [
        "# Create a random tensor with values between 0 and 100 of size 50\n",
        "E = tf.constant(np.random.randint(0, 100, size=50))\n",
        "E"
      ],
      "id": "JxphHalbmFpv",
      "execution_count": 94,
      "outputs": [
        {
          "output_type": "execute_result",
          "data": {
            "text/plain": [
              "<tf.Tensor: shape=(50,), dtype=int64, numpy=\n",
              "array([74, 25, 60, 13, 49, 89, 97, 54, 67, 62,  8,  3,  3, 32, 93, 45, 66,\n",
              "       28, 92, 74, 30, 94, 51, 67, 49, 74,  3,  2, 50, 51, 53, 15, 60, 50,\n",
              "       49, 33,  4, 45, 56, 21, 47, 94, 75, 27, 32, 87, 62,  8, 33,  8])>"
            ]
          },
          "metadata": {
            "tags": []
          },
          "execution_count": 94
        }
      ]
    },
    {
      "cell_type": "code",
      "metadata": {
        "id": "JXd9xfp5mFp3",
        "colab": {
          "base_uri": "https://localhost:8080/"
        },
        "outputId": "10bb3394-5052-48f4-fc3b-a13134b08fed"
      },
      "source": [
        "tf.size(E), E.shape, E.ndim"
      ],
      "id": "JXd9xfp5mFp3",
      "execution_count": 95,
      "outputs": [
        {
          "output_type": "execute_result",
          "data": {
            "text/plain": [
              "(<tf.Tensor: shape=(), dtype=int32, numpy=50>, TensorShape([50]), 1)"
            ]
          },
          "metadata": {
            "tags": []
          },
          "execution_count": 95
        }
      ]
    },
    {
      "cell_type": "code",
      "metadata": {
        "id": "pI1vcLOgmFp3",
        "colab": {
          "base_uri": "https://localhost:8080/"
        },
        "outputId": "170dfbb0-a0ea-43a0-c194-7c16e4635ea6"
      },
      "source": [
        "# Find the minimum\n",
        "tf.reduce_min(E)"
      ],
      "id": "pI1vcLOgmFp3",
      "execution_count": 96,
      "outputs": [
        {
          "output_type": "execute_result",
          "data": {
            "text/plain": [
              "<tf.Tensor: shape=(), dtype=int64, numpy=2>"
            ]
          },
          "metadata": {
            "tags": []
          },
          "execution_count": 96
        }
      ]
    },
    {
      "cell_type": "code",
      "metadata": {
        "id": "N9kpyPzImFp3",
        "colab": {
          "base_uri": "https://localhost:8080/"
        },
        "outputId": "2c2ceb21-e5b9-4ed3-8c44-2c20750d9d04"
      },
      "source": [
        "# Find maximum\n",
        "tf.reduce_max(E)"
      ],
      "id": "N9kpyPzImFp3",
      "execution_count": 97,
      "outputs": [
        {
          "output_type": "execute_result",
          "data": {
            "text/plain": [
              "<tf.Tensor: shape=(), dtype=int64, numpy=97>"
            ]
          },
          "metadata": {
            "tags": []
          },
          "execution_count": 97
        }
      ]
    },
    {
      "cell_type": "code",
      "metadata": {
        "id": "IRmG6Zu4mFp4",
        "colab": {
          "base_uri": "https://localhost:8080/"
        },
        "outputId": "c868a96e-dd1b-4b76-961e-66fcd7cf0624"
      },
      "source": [
        "# Find them mean\n",
        "tf.reduce_mean(E)"
      ],
      "id": "IRmG6Zu4mFp4",
      "execution_count": 98,
      "outputs": [
        {
          "output_type": "execute_result",
          "data": {
            "text/plain": [
              "<tf.Tensor: shape=(), dtype=int64, numpy=47>"
            ]
          },
          "metadata": {
            "tags": []
          },
          "execution_count": 98
        }
      ]
    },
    {
      "cell_type": "code",
      "metadata": {
        "scrolled": true,
        "id": "QeSAld9KmFp4",
        "colab": {
          "base_uri": "https://localhost:8080/"
        },
        "outputId": "452a527a-7e3a-4a52-a799-1438ba0d1176"
      },
      "source": [
        "# Fid the sum\n",
        "tf.reduce_sum(E)"
      ],
      "id": "QeSAld9KmFp4",
      "execution_count": 99,
      "outputs": [
        {
          "output_type": "execute_result",
          "data": {
            "text/plain": [
              "<tf.Tensor: shape=(), dtype=int64, numpy=2364>"
            ]
          },
          "metadata": {
            "tags": []
          },
          "execution_count": 99
        }
      ]
    },
    {
      "cell_type": "markdown",
      "metadata": {
        "id": "7DApwfbkmFp4"
      },
      "source": [
        "🛠️ **Exercise:** With what we've just learned, find the variance and standard deviation of our `E` tensor using Tensorflow methods"
      ],
      "id": "7DApwfbkmFp4"
    },
    {
      "cell_type": "code",
      "metadata": {
        "id": "4pPO6hKxmFp5",
        "colab": {
          "base_uri": "https://localhost:8080/"
        },
        "outputId": "f6468eb3-acb3-4f90-da34-2c2b2d446f61"
      },
      "source": [
        "# To find the variance of our tensor, we need acces to tensorflow_probability\n",
        "#import tensorflow_probability as tfp\n",
        "#tfp.stats.variance(E)\n",
        "\n",
        "# OR\n",
        "tf.math.reduce_variance(tf.cast(E, dtype=tf.float32))"
      ],
      "id": "4pPO6hKxmFp5",
      "execution_count": 108,
      "outputs": [
        {
          "output_type": "execute_result",
          "data": {
            "text/plain": [
              "<tf.Tensor: shape=(), dtype=float32, numpy=781.04156>"
            ]
          },
          "metadata": {
            "tags": []
          },
          "execution_count": 108
        }
      ]
    },
    {
      "cell_type": "code",
      "metadata": {
        "colab": {
          "base_uri": "https://localhost:8080/"
        },
        "id": "DBGVhpC6pjKO",
        "outputId": "50b9bd70-c7f5-4eb2-f594-6df8637da759"
      },
      "source": [
        "# Find the standard deviation\n",
        "tf.math.reduce_std(tf.cast(E, dtype=tf.float32))"
      ],
      "id": "DBGVhpC6pjKO",
      "execution_count": 106,
      "outputs": [
        {
          "output_type": "execute_result",
          "data": {
            "text/plain": [
              "<tf.Tensor: shape=(), dtype=float32, numpy=27.94712>"
            ]
          },
          "metadata": {
            "tags": []
          },
          "execution_count": 106
        }
      ]
    },
    {
      "cell_type": "markdown",
      "metadata": {
        "id": "Dj2W6iIWqwYl"
      },
      "source": [
        "### Find the positional maximum and minimum\n"
      ],
      "id": "Dj2W6iIWqwYl"
    },
    {
      "cell_type": "code",
      "metadata": {
        "colab": {
          "base_uri": "https://localhost:8080/"
        },
        "id": "HdbhonZKrnWW",
        "outputId": "7dd15e40-a342-42bb-ead5-233229b8e114"
      },
      "source": [
        "# Create a new tensor for finding positional minum and maximum\n",
        "tf.random.set_seed(42)\n",
        "F = tf.random.uniform(shape=[50])\n",
        "F"
      ],
      "id": "HdbhonZKrnWW",
      "execution_count": 124,
      "outputs": [
        {
          "output_type": "execute_result",
          "data": {
            "text/plain": [
              "<tf.Tensor: shape=(50,), dtype=float32, numpy=\n",
              "array([0.6645621 , 0.44100678, 0.3528825 , 0.46448255, 0.03366041,\n",
              "       0.68467236, 0.74011743, 0.8724445 , 0.22632635, 0.22319686,\n",
              "       0.3103881 , 0.7223358 , 0.13318717, 0.5480639 , 0.5746088 ,\n",
              "       0.8996835 , 0.00946367, 0.5212307 , 0.6345445 , 0.1993283 ,\n",
              "       0.72942245, 0.54583454, 0.10756552, 0.6767061 , 0.6602763 ,\n",
              "       0.33695042, 0.60141766, 0.21062577, 0.8527372 , 0.44062173,\n",
              "       0.9485276 , 0.23752594, 0.81179297, 0.5263394 , 0.494308  ,\n",
              "       0.21612847, 0.8457197 , 0.8718841 , 0.3083862 , 0.6868038 ,\n",
              "       0.23764038, 0.7817228 , 0.9671384 , 0.06870162, 0.79873943,\n",
              "       0.66028714, 0.5871513 , 0.16461694, 0.7381023 , 0.32054043],\n",
              "      dtype=float32)>"
            ]
          },
          "metadata": {
            "tags": []
          },
          "execution_count": 124
        }
      ]
    },
    {
      "cell_type": "code",
      "metadata": {
        "colab": {
          "base_uri": "https://localhost:8080/"
        },
        "id": "ZgnLhYScspeH",
        "outputId": "5e478e32-0ed2-47e1-8db4-e5ee20002303"
      },
      "source": [
        "# Find the positional maximum\n",
        "tf.argmax(F)"
      ],
      "id": "ZgnLhYScspeH",
      "execution_count": 125,
      "outputs": [
        {
          "output_type": "execute_result",
          "data": {
            "text/plain": [
              "<tf.Tensor: shape=(), dtype=int64, numpy=42>"
            ]
          },
          "metadata": {
            "tags": []
          },
          "execution_count": 125
        }
      ]
    },
    {
      "cell_type": "code",
      "metadata": {
        "colab": {
          "base_uri": "https://localhost:8080/"
        },
        "id": "uGP3nHoDs_eC",
        "outputId": "a2264b07-8e7e-4ee2-8370-420ad7a56185"
      },
      "source": [
        "# Index on our largest value position\n",
        "F[tf.argmax(F)]"
      ],
      "id": "uGP3nHoDs_eC",
      "execution_count": 126,
      "outputs": [
        {
          "output_type": "execute_result",
          "data": {
            "text/plain": [
              "<tf.Tensor: shape=(), dtype=float32, numpy=0.9671384>"
            ]
          },
          "metadata": {
            "tags": []
          },
          "execution_count": 126
        }
      ]
    },
    {
      "cell_type": "code",
      "metadata": {
        "colab": {
          "base_uri": "https://localhost:8080/"
        },
        "id": "HnqFINehtWwx",
        "outputId": "318ca66b-722d-465b-83e2-0671ef896470"
      },
      "source": [
        "# Find the max value of F\n",
        "tf.reduce_max(F)"
      ],
      "id": "HnqFINehtWwx",
      "execution_count": 127,
      "outputs": [
        {
          "output_type": "execute_result",
          "data": {
            "text/plain": [
              "<tf.Tensor: shape=(), dtype=float32, numpy=0.9671384>"
            ]
          },
          "metadata": {
            "tags": []
          },
          "execution_count": 127
        }
      ]
    },
    {
      "cell_type": "code",
      "metadata": {
        "colab": {
          "base_uri": "https://localhost:8080/"
        },
        "id": "Ln7dF_ACt6O3",
        "outputId": "4f2709e9-b29a-4676-cf09-83b6f7892cd4"
      },
      "source": [
        "# Check for equality\n",
        "F[tf.argmax(F)] == tf.reduce_max(F)"
      ],
      "id": "Ln7dF_ACt6O3",
      "execution_count": 128,
      "outputs": [
        {
          "output_type": "execute_result",
          "data": {
            "text/plain": [
              "<tf.Tensor: shape=(), dtype=bool, numpy=True>"
            ]
          },
          "metadata": {
            "tags": []
          },
          "execution_count": 128
        }
      ]
    },
    {
      "cell_type": "code",
      "metadata": {
        "colab": {
          "base_uri": "https://localhost:8080/"
        },
        "id": "XMUW8oD1uTA6",
        "outputId": "2b87753b-885d-45ac-d44f-82d1cc77d228"
      },
      "source": [
        "# Find the positional minimum\n",
        "tf.argmin(F)"
      ],
      "id": "XMUW8oD1uTA6",
      "execution_count": 129,
      "outputs": [
        {
          "output_type": "execute_result",
          "data": {
            "text/plain": [
              "<tf.Tensor: shape=(), dtype=int64, numpy=16>"
            ]
          },
          "metadata": {
            "tags": []
          },
          "execution_count": 129
        }
      ]
    },
    {
      "cell_type": "code",
      "metadata": {
        "colab": {
          "base_uri": "https://localhost:8080/"
        },
        "id": "udRRIUe6ucpr",
        "outputId": "17bdf943-659b-48db-ebb6-1642fa844075"
      },
      "source": [
        "# Find the minimum using the positional minimum index\n",
        "F[tf.argmin(F)]"
      ],
      "id": "udRRIUe6ucpr",
      "execution_count": 130,
      "outputs": [
        {
          "output_type": "execute_result",
          "data": {
            "text/plain": [
              "<tf.Tensor: shape=(), dtype=float32, numpy=0.009463668>"
            ]
          },
          "metadata": {
            "tags": []
          },
          "execution_count": 130
        }
      ]
    },
    {
      "cell_type": "markdown",
      "metadata": {
        "id": "_-vvVJy4vDZd"
      },
      "source": [
        "### Squeezing a tensor (removing all single dimensions)"
      ],
      "id": "_-vvVJy4vDZd"
    },
    {
      "cell_type": "code",
      "metadata": {
        "colab": {
          "base_uri": "https://localhost:8080/"
        },
        "id": "5VyOZ6XhvH6s",
        "outputId": "253caaab-054c-488b-f8fd-4f0a6d9c640c"
      },
      "source": [
        "# Create a tensor to get started \n",
        "tf.random.set_seed(42)\n",
        "G = tf.constant(tf.random.uniform(shape=[50]), shape=(1, 1, 1, 1, 50))\n",
        "G"
      ],
      "id": "5VyOZ6XhvH6s",
      "execution_count": 131,
      "outputs": [
        {
          "output_type": "execute_result",
          "data": {
            "text/plain": [
              "<tf.Tensor: shape=(1, 1, 1, 1, 50), dtype=float32, numpy=\n",
              "array([[[[[0.6645621 , 0.44100678, 0.3528825 , 0.46448255, 0.03366041,\n",
              "           0.68467236, 0.74011743, 0.8724445 , 0.22632635, 0.22319686,\n",
              "           0.3103881 , 0.7223358 , 0.13318717, 0.5480639 , 0.5746088 ,\n",
              "           0.8996835 , 0.00946367, 0.5212307 , 0.6345445 , 0.1993283 ,\n",
              "           0.72942245, 0.54583454, 0.10756552, 0.6767061 , 0.6602763 ,\n",
              "           0.33695042, 0.60141766, 0.21062577, 0.8527372 , 0.44062173,\n",
              "           0.9485276 , 0.23752594, 0.81179297, 0.5263394 , 0.494308  ,\n",
              "           0.21612847, 0.8457197 , 0.8718841 , 0.3083862 , 0.6868038 ,\n",
              "           0.23764038, 0.7817228 , 0.9671384 , 0.06870162, 0.79873943,\n",
              "           0.66028714, 0.5871513 , 0.16461694, 0.7381023 , 0.32054043]]]]],\n",
              "      dtype=float32)>"
            ]
          },
          "metadata": {
            "tags": []
          },
          "execution_count": 131
        }
      ]
    },
    {
      "cell_type": "code",
      "metadata": {
        "colab": {
          "base_uri": "https://localhost:8080/"
        },
        "id": "cxe2SarZvwXx",
        "outputId": "26a31376-c712-4000-fd0c-8a8ae35041f9"
      },
      "source": [
        "G.shape"
      ],
      "id": "cxe2SarZvwXx",
      "execution_count": 133,
      "outputs": [
        {
          "output_type": "execute_result",
          "data": {
            "text/plain": [
              "TensorShape([1, 1, 1, 1, 50])"
            ]
          },
          "metadata": {
            "tags": []
          },
          "execution_count": 133
        }
      ]
    },
    {
      "cell_type": "code",
      "metadata": {
        "colab": {
          "base_uri": "https://localhost:8080/"
        },
        "id": "M-a3Yq2Yv4Zi",
        "outputId": "047783ca-5160-496e-bae4-3cb6e12358a1"
      },
      "source": [
        "G_squeezed = tf.squeeze(G)\n",
        "G_squeezed, G_squeezed.shape"
      ],
      "id": "M-a3Yq2Yv4Zi",
      "execution_count": 135,
      "outputs": [
        {
          "output_type": "execute_result",
          "data": {
            "text/plain": [
              "(<tf.Tensor: shape=(50,), dtype=float32, numpy=\n",
              " array([0.6645621 , 0.44100678, 0.3528825 , 0.46448255, 0.03366041,\n",
              "        0.68467236, 0.74011743, 0.8724445 , 0.22632635, 0.22319686,\n",
              "        0.3103881 , 0.7223358 , 0.13318717, 0.5480639 , 0.5746088 ,\n",
              "        0.8996835 , 0.00946367, 0.5212307 , 0.6345445 , 0.1993283 ,\n",
              "        0.72942245, 0.54583454, 0.10756552, 0.6767061 , 0.6602763 ,\n",
              "        0.33695042, 0.60141766, 0.21062577, 0.8527372 , 0.44062173,\n",
              "        0.9485276 , 0.23752594, 0.81179297, 0.5263394 , 0.494308  ,\n",
              "        0.21612847, 0.8457197 , 0.8718841 , 0.3083862 , 0.6868038 ,\n",
              "        0.23764038, 0.7817228 , 0.9671384 , 0.06870162, 0.79873943,\n",
              "        0.66028714, 0.5871513 , 0.16461694, 0.7381023 , 0.32054043],\n",
              "       dtype=float32)>, TensorShape([50]))"
            ]
          },
          "metadata": {
            "tags": []
          },
          "execution_count": 135
        }
      ]
    },
    {
      "cell_type": "markdown",
      "metadata": {
        "id": "riz-kG02wsf9"
      },
      "source": [
        "### One-hot encoding tensors"
      ],
      "id": "riz-kG02wsf9"
    },
    {
      "cell_type": "code",
      "metadata": {
        "colab": {
          "base_uri": "https://localhost:8080/"
        },
        "id": "TcRTLaU7wv94",
        "outputId": "c4c6aee8-5387-43cc-80fa-4da1c4a83a97"
      },
      "source": [
        "#create a list of indices\n",
        "# could be red, green, blue purple\n",
        "somes_list = [0, 1, 2, 3] \n",
        "\n",
        "# One hot enconde our list of indices\n",
        "tf.one_hot(some_list, depth=4)"
      ],
      "id": "TcRTLaU7wv94",
      "execution_count": 139,
      "outputs": [
        {
          "output_type": "execute_result",
          "data": {
            "text/plain": [
              "<tf.Tensor: shape=(4, 4), dtype=float32, numpy=\n",
              "array([[0., 1., 0., 0.],\n",
              "       [0., 0., 1., 0.],\n",
              "       [0., 0., 0., 1.],\n",
              "       [0., 0., 0., 0.]], dtype=float32)>"
            ]
          },
          "metadata": {
            "tags": []
          },
          "execution_count": 139
        }
      ]
    },
    {
      "cell_type": "code",
      "metadata": {
        "colab": {
          "base_uri": "https://localhost:8080/"
        },
        "id": "Ac87BzZTxy8g",
        "outputId": "dc8eb266-c3b0-4465-dfd6-d7834fb47b94"
      },
      "source": [
        "# Specify custom values for one hot encoding\n",
        "tf.one_hot(some_list, depth=4, on_value=\"I'm learning this crazy shit\", off_value=\"fuck u\")"
      ],
      "id": "Ac87BzZTxy8g",
      "execution_count": 140,
      "outputs": [
        {
          "output_type": "execute_result",
          "data": {
            "text/plain": [
              "<tf.Tensor: shape=(4, 4), dtype=string, numpy=\n",
              "array([[b'fuck u', b\"I'm learning this crazy shit\", b'fuck u', b'fuck u'],\n",
              "       [b'fuck u', b'fuck u', b\"I'm learning this crazy shit\", b'fuck u'],\n",
              "       [b'fuck u', b'fuck u', b'fuck u', b\"I'm learning this crazy shit\"],\n",
              "       [b'fuck u', b'fuck u', b'fuck u', b'fuck u']], dtype=object)>"
            ]
          },
          "metadata": {
            "tags": []
          },
          "execution_count": 140
        }
      ]
    },
    {
      "cell_type": "markdown",
      "metadata": {
        "id": "dDgyfFktyLTZ"
      },
      "source": [
        "### Squaring, log, square root"
      ],
      "id": "dDgyfFktyLTZ"
    },
    {
      "cell_type": "code",
      "metadata": {
        "colab": {
          "base_uri": "https://localhost:8080/"
        },
        "id": "CYLyd7Ycyi18",
        "outputId": "13d5ddca-fbc4-4a16-99b3-7293d9daaaa8"
      },
      "source": [
        "# Create a new tensor \n",
        "H = tf.range(1, 10)\n",
        "H"
      ],
      "id": "CYLyd7Ycyi18",
      "execution_count": 143,
      "outputs": [
        {
          "output_type": "execute_result",
          "data": {
            "text/plain": [
              "<tf.Tensor: shape=(9,), dtype=int32, numpy=array([1, 2, 3, 4, 5, 6, 7, 8, 9], dtype=int32)>"
            ]
          },
          "metadata": {
            "tags": []
          },
          "execution_count": 143
        }
      ]
    },
    {
      "cell_type": "code",
      "metadata": {
        "colab": {
          "base_uri": "https://localhost:8080/"
        },
        "id": "k_ato0Diyq8E",
        "outputId": "465baa14-f687-4e6a-ffb5-402dadbf5e32"
      },
      "source": [
        "#Square it \n",
        "tf.square(H)"
      ],
      "id": "k_ato0Diyq8E",
      "execution_count": 145,
      "outputs": [
        {
          "output_type": "execute_result",
          "data": {
            "text/plain": [
              "<tf.Tensor: shape=(9,), dtype=int32, numpy=array([ 1,  4,  9, 16, 25, 36, 49, 64, 81], dtype=int32)>"
            ]
          },
          "metadata": {
            "tags": []
          },
          "execution_count": 145
        }
      ]
    },
    {
      "cell_type": "code",
      "metadata": {
        "colab": {
          "base_uri": "https://localhost:8080/"
        },
        "id": "4rOjMcNvyuc0",
        "outputId": "fb474b9b-a03d-4710-eee4-c2d7ab839c9b"
      },
      "source": [
        "# Find the squareroot (method requires non-int type)\n",
        "tf.sqrt(tf.cast(H, dtype=tf.float32))"
      ],
      "id": "4rOjMcNvyuc0",
      "execution_count": 147,
      "outputs": [
        {
          "output_type": "execute_result",
          "data": {
            "text/plain": [
              "<tf.Tensor: shape=(9,), dtype=float32, numpy=\n",
              "array([0.99999994, 1.4142134 , 1.7320508 , 1.9999999 , 2.236068  ,\n",
              "       2.4494896 , 2.6457512 , 2.8284268 , 3.        ], dtype=float32)>"
            ]
          },
          "metadata": {
            "tags": []
          },
          "execution_count": 147
        }
      ]
    },
    {
      "cell_type": "code",
      "metadata": {
        "colab": {
          "base_uri": "https://localhost:8080/"
        },
        "id": "tBc1sfM7zHJ0",
        "outputId": "7c0755c2-706e-4ded-a81e-ff82a7ab7e2a"
      },
      "source": [
        "# Find log \n",
        "tf.math.log(tf.cast(H, dtype=tf.float32))"
      ],
      "id": "tBc1sfM7zHJ0",
      "execution_count": 155,
      "outputs": [
        {
          "output_type": "execute_result",
          "data": {
            "text/plain": [
              "<tf.Tensor: shape=(9,), dtype=float32, numpy=\n",
              "array([0.       , 0.6931472, 1.0986123, 1.3862944, 1.609438 , 1.7917595,\n",
              "       1.9459102, 2.0794415, 2.1972246], dtype=float32)>"
            ]
          },
          "metadata": {
            "tags": []
          },
          "execution_count": 155
        }
      ]
    },
    {
      "cell_type": "markdown",
      "metadata": {
        "id": "uDjWRA0B01Ir"
      },
      "source": [
        "### Tensors and NumPy"
      ],
      "id": "uDjWRA0B01Ir"
    },
    {
      "cell_type": "code",
      "metadata": {
        "colab": {
          "base_uri": "https://localhost:8080/"
        },
        "id": "QOzbjnO304S_",
        "outputId": "4fb4f487-a977-4314-acd4-e51661f0f2a9"
      },
      "source": [
        "# Create a tensor directly from NumPy array\n",
        "J = tf.constant(np.array([3., 7., 10.]))\n",
        "J"
      ],
      "id": "QOzbjnO304S_",
      "execution_count": 157,
      "outputs": [
        {
          "output_type": "execute_result",
          "data": {
            "text/plain": [
              "<tf.Tensor: shape=(3,), dtype=float64, numpy=array([ 3.,  7., 10.])>"
            ]
          },
          "metadata": {
            "tags": []
          },
          "execution_count": 157
        }
      ]
    },
    {
      "cell_type": "code",
      "metadata": {
        "colab": {
          "base_uri": "https://localhost:8080/"
        },
        "id": "1nCMIPRj1VGV",
        "outputId": "b0988d4d-5a42-462b-a680-6f594f044909"
      },
      "source": [
        "# Convert our tensor back to a numpy array\n",
        "np.array(J), type(np.array(J))"
      ],
      "id": "1nCMIPRj1VGV",
      "execution_count": 160,
      "outputs": [
        {
          "output_type": "execute_result",
          "data": {
            "text/plain": [
              "(array([ 3.,  7., 10.]), numpy.ndarray)"
            ]
          },
          "metadata": {
            "tags": []
          },
          "execution_count": 160
        }
      ]
    },
    {
      "cell_type": "code",
      "metadata": {
        "colab": {
          "base_uri": "https://localhost:8080/"
        },
        "id": "rP4L6K_21hRF",
        "outputId": "7baeb163-b910-4b85-8448-42d8c96e95a8"
      },
      "source": [
        "# OR \n",
        "J.numpy(), type(J.numpy())"
      ],
      "id": "rP4L6K_21hRF",
      "execution_count": 162,
      "outputs": [
        {
          "output_type": "execute_result",
          "data": {
            "text/plain": [
              "(array([ 3.,  7., 10.]), numpy.ndarray)"
            ]
          },
          "metadata": {
            "tags": []
          },
          "execution_count": 162
        }
      ]
    },
    {
      "cell_type": "code",
      "metadata": {
        "id": "H1AlewIW6AhS"
      },
      "source": [
        ""
      ],
      "id": "H1AlewIW6AhS",
      "execution_count": null,
      "outputs": []
    }
  ]
}